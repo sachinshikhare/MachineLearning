{
 "cells": [
  {
   "cell_type": "code",
   "execution_count": 1,
   "metadata": {},
   "outputs": [],
   "source": [
    "import pandas as pd\n",
    "import numpy as np\n",
    "from matplotlib import pyplot as plt\n",
    "%matplotlib inline"
   ]
  },
  {
   "cell_type": "code",
   "execution_count": 2,
   "metadata": {
    "scrolled": true
   },
   "outputs": [
    {
     "name": "stdout",
     "output_type": "stream",
     "text": [
      "<class 'pandas.core.frame.DataFrame'>\n",
      "RangeIndex: 99 entries, 0 to 98\n",
      "Data columns (total 3 columns):\n",
      "34.62365962451697    99 non-null float64\n",
      "78.0246928153624     99 non-null float64\n",
      "0                    99 non-null int64\n",
      "dtypes: float64(2), int64(1)\n",
      "memory usage: 2.4 KB\n"
     ]
    }
   ],
   "source": [
    "df = pd.read_csv(\"F:\\SACHIN\\Study\\Projects\\ML_Data\\logistic-regression\\\\ex2data1.csv\")\n",
    "df.info()\n"
   ]
  },
  {
   "cell_type": "code",
   "execution_count": 3,
   "metadata": {
    "scrolled": true
   },
   "outputs": [
    {
     "data": {
      "text/html": [
       "<div>\n",
       "<style scoped>\n",
       "    .dataframe tbody tr th:only-of-type {\n",
       "        vertical-align: middle;\n",
       "    }\n",
       "\n",
       "    .dataframe tbody tr th {\n",
       "        vertical-align: top;\n",
       "    }\n",
       "\n",
       "    .dataframe thead th {\n",
       "        text-align: right;\n",
       "    }\n",
       "</style>\n",
       "<table border=\"1\" class=\"dataframe\">\n",
       "  <thead>\n",
       "    <tr style=\"text-align: right;\">\n",
       "      <th></th>\n",
       "      <th>x1</th>\n",
       "      <th>x2</th>\n",
       "      <th>y</th>\n",
       "    </tr>\n",
       "  </thead>\n",
       "  <tbody>\n",
       "    <tr>\n",
       "      <th>0</th>\n",
       "      <td>30.286711</td>\n",
       "      <td>43.894998</td>\n",
       "      <td>0</td>\n",
       "    </tr>\n",
       "    <tr>\n",
       "      <th>1</th>\n",
       "      <td>35.847409</td>\n",
       "      <td>72.902198</td>\n",
       "      <td>0</td>\n",
       "    </tr>\n",
       "    <tr>\n",
       "      <th>2</th>\n",
       "      <td>60.182599</td>\n",
       "      <td>86.308552</td>\n",
       "      <td>1</td>\n",
       "    </tr>\n",
       "    <tr>\n",
       "      <th>3</th>\n",
       "      <td>79.032736</td>\n",
       "      <td>75.344376</td>\n",
       "      <td>1</td>\n",
       "    </tr>\n",
       "    <tr>\n",
       "      <th>4</th>\n",
       "      <td>45.083277</td>\n",
       "      <td>56.316372</td>\n",
       "      <td>0</td>\n",
       "    </tr>\n",
       "  </tbody>\n",
       "</table>\n",
       "</div>"
      ],
      "text/plain": [
       "          x1         x2  y\n",
       "0  30.286711  43.894998  0\n",
       "1  35.847409  72.902198  0\n",
       "2  60.182599  86.308552  1\n",
       "3  79.032736  75.344376  1\n",
       "4  45.083277  56.316372  0"
      ]
     },
     "execution_count": 3,
     "metadata": {},
     "output_type": "execute_result"
    }
   ],
   "source": [
    "df.columns = ['x1', 'x2', 'y']\n",
    "df.head()"
   ]
  },
  {
   "cell_type": "code",
   "execution_count": 4,
   "metadata": {
    "scrolled": true
   },
   "outputs": [
    {
     "data": {
      "image/png": "[encoded data removed]",
      "text/plain": [
       "<matplotlib.figure.Figure at 0x2f218b34860>"
      ]
     },
     "metadata": {},
     "output_type": "display_data"
    }
   ],
   "source": [
    "col = np.where(df['y'] == 1, 'r', 'b')\n",
    "plt.scatter(df['x1'],df['x2'], c = col)\n",
    "plt.show()"
   ]
  },
  {
   "cell_type": "code",
   "execution_count": 5,
   "metadata": {},
   "outputs": [],
   "source": [
    "def sigmoid(z):\n",
    "    return (1 / (1 + np.exp(-z)))"
   ]
  },
  {
   "cell_type": "code",
   "execution_count": 6,
   "metadata": {
    "scrolled": false
   },
   "outputs": [],
   "source": [
    "X = np.array(df.drop(['y'], 1))\n",
    "y = np.array(df['y'], ndmin=2)\n",
    "[m,n] = X.shape\n",
    "initial_theta = np.zeros((n+1, 1))\n",
    "X = np.insert(X, 0, np.ones(m), 1)\n"
   ]
  },
  {
   "cell_type": "code",
   "execution_count": 7,
   "metadata": {},
   "outputs": [],
   "source": [
    "def cost_function(theta, X, y):\n",
    "    m = X.shape[0]\n",
    "    J = 0\n",
    "    grad = np.zeros(len(theta))\n",
    "    h_theta_of_x = sigmoid(X @ theta)\n",
    "    \n",
    "    J = (1 / m) * np.sum((-y.transpose() @ np.log(h_theta_of_x)) - (1 - y).transpose() @ (np.log(1 - h_theta_of_x)))\n",
    "    \n",
    "    temp1 = np.subtract(h_theta_of_x, y)\n",
    "    grad = (1/m) * X.transpose() @ temp1\n",
    "    \n",
    "    return J, grad"
   ]
  },
  {
   "cell_type": "code",
   "execution_count": 8,
   "metadata": {},
   "outputs": [
    {
     "name": "stdout",
     "output_type": "stream",
     "text": [
      "0.69314718056\n",
      "--------\n",
      "[[ -0.10606061]\n",
      " [-12.30538878]\n",
      " [-11.77067239]]\n"
     ]
    }
   ],
   "source": [
    "cost, grad = cost_function(initial_theta, X, y.transpose())\n",
    "print(cost)\n",
    "print('--------')\n",
    "print(grad)"
   ]
  },
  {
   "cell_type": "code",
   "execution_count": 9,
   "metadata": {},
   "outputs": [
    {
     "name": "stdout",
     "output_type": "stream",
     "text": [
      "1 (1, 3)\n",
      "2 (99, 3)\n",
      "3 (1, 99)\n",
      "0.21844573119\n",
      "--------\n",
      "[[ 0.04144856]\n",
      " [ 2.52679301]\n",
      " [ 2.52623742]]\n"
     ]
    }
   ],
   "source": [
    "test_theta = np.array([-24, 0.2, 0.2], ndmin=2)\n",
    "print(1, test_theta.shape)\n",
    "print(2, X.shape)\n",
    "print(3, y.shape)\n",
    "cost, grad = cost_function(test_theta.transpose(), X, y.transpose())\n",
    "print(cost)\n",
    "print('--------')\n",
    "print(grad)"
   ]
  }
 ],
 "metadata": {
  "kernelspec": {
   "display_name": "Python 3",
   "language": "python",
   "name": "python3"
  },
  "language_info": {
   "codemirror_mode": {
    "name": "ipython",
    "version": 3
   },
   "file_extension": ".py",
   "mimetype": "text/x-python",
   "name": "python",
   "nbconvert_exporter": "python",
   "pygments_lexer": "ipython3",
   "version": "3.6.3"
  }
 },
 "nbformat": 4,
 "nbformat_minor": 2
}
